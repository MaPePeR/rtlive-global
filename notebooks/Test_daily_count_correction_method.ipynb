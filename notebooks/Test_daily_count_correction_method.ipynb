{
 "cells": [
  {
   "cell_type": "code",
   "execution_count": 1,
   "metadata": {},
   "outputs": [],
   "source": [
    "# this cell makes it easier to mess with the project code interactively\n",
    "%load_ext autoreload\n",
    "%autoreload 2"
   ]
  },
  {
   "cell_type": "code",
   "execution_count": 2,
   "metadata": {},
   "outputs": [
    {
     "name": "stderr",
     "output_type": "stream",
     "text": [
      "ERROR:fbprophet.plot:Importing plotly failed. Interactive plots will not work.\n"
     ]
    }
   ],
   "source": [
    "import datetime\n",
    "import logging\n",
    "import numpy\n",
    "import pandas\n",
    "import pathlib\n",
    "import matplotlib\n",
    "from matplotlib import pyplot, cm\n",
    "\n",
    "import arviz\n",
    "import pymc3\n",
    "\n",
    "_log = logging.getLogger('notebook')\n",
    "logging.basicConfig(level=logging.INFO)\n",
    "\n",
    "# messing with the path to get imports working\n",
    "import sys\n",
    "sys.path.append(str(pathlib.Path(\"..\").resolve()))\n",
    "\n",
    "import rtlive\n",
    "from rtlive import data, preprocessing"
   ]
  },
  {
   "cell_type": "code",
   "execution_count": 3,
   "metadata": {},
   "outputs": [],
   "source": [
    "from rtlive.sources import ourworldindata, data_de, data_be"
   ]
  },
  {
   "cell_type": "code",
   "execution_count": 4,
   "metadata": {},
   "outputs": [
    {
     "name": "stderr",
     "output_type": "stream",
     "text": [
      "E:\\Anaconda3\\envs\\rtlive\\lib\\site-packages\\urllib3\\connectionpool.py:1013: InsecureRequestWarning: Unverified HTTPS request is being made to host 'epistat.sciensano.be'. Adding certificate verification is strongly advised. See: https://urllib3.readthedocs.io/en/latest/advanced-usage.html#ssl-warnings\n",
      "  warnings.warn(\n"
     ]
    }
   ],
   "source": [
    "run_time = pandas.Timestamp.today()\n",
    "owid_data = ourworldindata.download_owid(run_time)\n",
    "data_be_data = data_be.get_data_BE(run_time)"
   ]
  },
  {
   "cell_type": "code",
   "execution_count": 5,
   "metadata": {},
   "outputs": [],
   "source": [
    "df_be = data_be_data.copy()\n",
    "df_owid_be = owid_data.xs('BE')\n",
    "df_owid_be_total_tests = df_owid_be.xs('all').total_tests\n",
    "df_owid_be_daily_tests = df_owid_be_total_tests.diff()"
   ]
  },
  {
   "cell_type": "markdown",
   "metadata": {},
   "source": [
    "## Attempt to create the DataFrame as it would be created by the data_de source"
   ]
  },
  {
   "cell_type": "code",
   "execution_count": 6,
   "metadata": {},
   "outputs": [
    {
     "data": {
      "text/html": [
       "<div>\n",
       "<style scoped>\n",
       "    .dataframe tbody tr th:only-of-type {\n",
       "        vertical-align: middle;\n",
       "    }\n",
       "\n",
       "    .dataframe tbody tr th {\n",
       "        vertical-align: top;\n",
       "    }\n",
       "\n",
       "    .dataframe thead th {\n",
       "        text-align: right;\n",
       "    }\n",
       "</style>\n",
       "<table border=\"1\" class=\"dataframe\">\n",
       "  <thead>\n",
       "    <tr style=\"text-align: right;\">\n",
       "      <th></th>\n",
       "      <th></th>\n",
       "      <th>new_cases</th>\n",
       "      <th>new_tests</th>\n",
       "      <th>total_tests_reported</th>\n",
       "    </tr>\n",
       "    <tr>\n",
       "      <th>region</th>\n",
       "      <th>date</th>\n",
       "      <th></th>\n",
       "      <th></th>\n",
       "      <th></th>\n",
       "    </tr>\n",
       "  </thead>\n",
       "  <tbody>\n",
       "    <tr>\n",
       "      <th rowspan=\"5\" valign=\"top\">ANT</th>\n",
       "      <th>2020-03-01</th>\n",
       "      <td>0</td>\n",
       "      <td>18</td>\n",
       "      <td>NaN</td>\n",
       "    </tr>\n",
       "    <tr>\n",
       "      <th>2020-03-02</th>\n",
       "      <td>1</td>\n",
       "      <td>38</td>\n",
       "      <td>NaN</td>\n",
       "    </tr>\n",
       "    <tr>\n",
       "      <th>2020-03-03</th>\n",
       "      <td>1</td>\n",
       "      <td>112</td>\n",
       "      <td>NaN</td>\n",
       "    </tr>\n",
       "    <tr>\n",
       "      <th>2020-03-04</th>\n",
       "      <td>3</td>\n",
       "      <td>131</td>\n",
       "      <td>NaN</td>\n",
       "    </tr>\n",
       "    <tr>\n",
       "      <th>2020-03-05</th>\n",
       "      <td>9</td>\n",
       "      <td>118</td>\n",
       "      <td>NaN</td>\n",
       "    </tr>\n",
       "    <tr>\n",
       "      <th>...</th>\n",
       "      <th>...</th>\n",
       "      <td>...</td>\n",
       "      <td>...</td>\n",
       "      <td>...</td>\n",
       "    </tr>\n",
       "    <tr>\n",
       "      <th rowspan=\"5\" valign=\"top\">all</th>\n",
       "      <th>2021-01-04</th>\n",
       "      <td>2032</td>\n",
       "      <td>40167</td>\n",
       "      <td>NaN</td>\n",
       "    </tr>\n",
       "    <tr>\n",
       "      <th>2021-01-05</th>\n",
       "      <td>3395</td>\n",
       "      <td>59610</td>\n",
       "      <td>NaN</td>\n",
       "    </tr>\n",
       "    <tr>\n",
       "      <th>2021-01-06</th>\n",
       "      <td>3281</td>\n",
       "      <td>54938</td>\n",
       "      <td>NaN</td>\n",
       "    </tr>\n",
       "    <tr>\n",
       "      <th>2021-01-07</th>\n",
       "      <td>2360</td>\n",
       "      <td>42288</td>\n",
       "      <td>NaN</td>\n",
       "    </tr>\n",
       "    <tr>\n",
       "      <th>2021-01-08</th>\n",
       "      <td>90</td>\n",
       "      <td>2071</td>\n",
       "      <td>NaN</td>\n",
       "    </tr>\n",
       "  </tbody>\n",
       "</table>\n",
       "<p>4396 rows × 3 columns</p>\n",
       "</div>"
      ],
      "text/plain": [
       "                   new_cases  new_tests  total_tests_reported\n",
       "region date                                                  \n",
       "ANT    2020-03-01          0         18                   NaN\n",
       "       2020-03-02          1         38                   NaN\n",
       "       2020-03-03          1        112                   NaN\n",
       "       2020-03-04          3        131                   NaN\n",
       "       2020-03-05          9        118                   NaN\n",
       "...                      ...        ...                   ...\n",
       "all    2021-01-04       2032      40167                   NaN\n",
       "       2021-01-05       3395      59610                   NaN\n",
       "       2021-01-06       3281      54938                   NaN\n",
       "       2021-01-07       2360      42288                   NaN\n",
       "       2021-01-08         90       2071                   NaN\n",
       "\n",
       "[4396 rows x 3 columns]"
      ]
     },
     "execution_count": 6,
     "metadata": {},
     "output_type": "execute_result"
    }
   ],
   "source": [
    "#Create weekly data with NaN gaps as total_tests_reported column for the `all` region:\n",
    "df_be_weekly_total_tests = df_owid_be_total_tests.resample('W-Sun', level='date').last() #XXX: I don't know if the german data reported for sunday does include the data for sunday itself.\n",
    "df_be_weekly_total_tests.drop(df_be_weekly_total_tests.tail(1).index,inplace=True) #Remove last row, because its an incomplete week in the future\n",
    "weekly_data_frame = df_be_weekly_total_tests.resample('1D').asfreq().rename('total_tests_reported').to_frame()\n",
    "weekly_data_frame['region'] = 'all'\n",
    "weekly_data_frame = weekly_data_frame.reset_index().set_index(['region', 'date'])\n",
    "\n",
    "df_be_merged = df_be.assign(total_tests_reported=weekly_data_frame)\n",
    "df_be_merged"
   ]
  },
  {
   "cell_type": "markdown",
   "metadata": {},
   "source": [
    "Simulate the current data situation for germany: Daily data until approx. 2020-12-07, weekly data until 2020-12-27"
   ]
  },
  {
   "cell_type": "code",
   "execution_count": 7,
   "metadata": {},
   "outputs": [],
   "source": [
    "end_of_daily_data = pandas.Timestamp('2020-12-07')\n",
    "end_of_weekly_data = pandas.Timestamp('2020-12-27') + pandas.Timedelta('1D')"
   ]
  },
  {
   "cell_type": "code",
   "execution_count": 8,
   "metadata": {},
   "outputs": [],
   "source": [
    "df_be_merged.loc[('all', slice(end_of_daily_data,None)), 'new_tests'] = numpy.nan\n",
    "df_be_merged.loc[('all', slice(end_of_weekly_data,None)), 'total_tests_reported'] = numpy.nan"
   ]
  },
  {
   "cell_type": "markdown",
   "metadata": {},
   "source": [
    "## Call the original forecast method"
   ]
  },
  {
   "cell_type": "code",
   "execution_count": 9,
   "metadata": {},
   "outputs": [
    {
     "name": "stderr",
     "output_type": "stream",
     "text": [
      "INFO:E:\\Projects\\rtlive-global\\rtlive\\preprocessing.py:Forecasting testcount gaps for ANT from 314 training points.\n",
      "WARNING:pystan:n_eff / iter below 0.001 indicates that the effective sample size has likely been overestimated\n",
      "WARNING:pystan:Rhat above 1.1 or below 0.9 indicates that the chains very likely have not mixed\n",
      "INFO:E:\\Projects\\rtlive-global\\rtlive\\preprocessing.py:Forecasting testcount gaps for WBR from 314 training points.\n",
      "WARNING:pystan:n_eff / iter below 0.001 indicates that the effective sample size has likely been overestimated\n",
      "WARNING:pystan:Rhat above 1.1 or below 0.9 indicates that the chains very likely have not mixed\n",
      "INFO:E:\\Projects\\rtlive-global\\rtlive\\preprocessing.py:Forecasting testcount gaps for BRU from 314 training points.\n",
      "WARNING:pystan:n_eff / iter below 0.001 indicates that the effective sample size has likely been overestimated\n",
      "WARNING:pystan:Rhat above 1.1 or below 0.9 indicates that the chains very likely have not mixed\n",
      "INFO:E:\\Projects\\rtlive-global\\rtlive\\preprocessing.py:Forecasting testcount gaps for FLA from 314 training points.\n",
      "WARNING:pystan:n_eff / iter below 0.001 indicates that the effective sample size has likely been overestimated\n",
      "WARNING:pystan:Rhat above 1.1 or below 0.9 indicates that the chains very likely have not mixed\n",
      "INFO:E:\\Projects\\rtlive-global\\rtlive\\preprocessing.py:Forecasting testcount gaps for HAI from 314 training points.\n",
      "WARNING:pystan:n_eff / iter below 0.001 indicates that the effective sample size has likely been overestimated\n",
      "WARNING:pystan:Rhat above 1.1 or below 0.9 indicates that the chains very likely have not mixed\n",
      "INFO:E:\\Projects\\rtlive-global\\rtlive\\preprocessing.py:Forecasting testcount gaps for LIM from 314 training points.\n",
      "WARNING:pystan:n_eff / iter below 0.001 indicates that the effective sample size has likely been overestimated\n",
      "WARNING:pystan:Rhat above 1.1 or below 0.9 indicates that the chains very likely have not mixed\n",
      "INFO:E:\\Projects\\rtlive-global\\rtlive\\preprocessing.py:Forecasting testcount gaps for LIE from 314 training points.\n",
      "WARNING:pystan:n_eff / iter below 0.001 indicates that the effective sample size has likely been overestimated\n",
      "WARNING:pystan:Rhat above 1.1 or below 0.9 indicates that the chains very likely have not mixed\n",
      "INFO:E:\\Projects\\rtlive-global\\rtlive\\preprocessing.py:Forecasting testcount gaps for LUX from 314 training points.\n",
      "WARNING:pystan:n_eff / iter below 0.001 indicates that the effective sample size has likely been overestimated\n",
      "WARNING:pystan:Rhat above 1.1 or below 0.9 indicates that the chains very likely have not mixed\n",
      "INFO:E:\\Projects\\rtlive-global\\rtlive\\preprocessing.py:Forecasting testcount gaps for NAM from 314 training points.\n",
      "WARNING:pystan:n_eff / iter below 0.001 indicates that the effective sample size has likely been overestimated\n",
      "WARNING:pystan:Rhat above 1.1 or below 0.9 indicates that the chains very likely have not mixed\n",
      "INFO:E:\\Projects\\rtlive-global\\rtlive\\preprocessing.py:Forecasting testcount gaps for EFL from 314 training points.\n",
      "WARNING:pystan:n_eff / iter below 0.001 indicates that the effective sample size has likely been overestimated\n",
      "WARNING:pystan:Rhat above 1.1 or below 0.9 indicates that the chains very likely have not mixed\n",
      "INFO:E:\\Projects\\rtlive-global\\rtlive\\preprocessing.py:Forecasting testcount gaps for FBR from 314 training points.\n",
      "WARNING:pystan:n_eff / iter below 0.001 indicates that the effective sample size has likely been overestimated\n",
      "WARNING:pystan:Rhat above 1.1 or below 0.9 indicates that the chains very likely have not mixed\n",
      "INFO:E:\\Projects\\rtlive-global\\rtlive\\preprocessing.py:Forecasting testcount gaps for WAL from 314 training points.\n",
      "WARNING:pystan:n_eff / iter below 0.001 indicates that the effective sample size has likely been overestimated\n",
      "WARNING:pystan:Rhat above 1.1 or below 0.9 indicates that the chains very likely have not mixed\n",
      "INFO:E:\\Projects\\rtlive-global\\rtlive\\preprocessing.py:Forecasting testcount gaps for WFL from 314 training points.\n",
      "WARNING:pystan:n_eff / iter below 0.001 indicates that the effective sample size has likely been overestimated\n",
      "WARNING:pystan:Rhat above 1.1 or below 0.9 indicates that the chains very likely have not mixed\n",
      "INFO:E:\\Projects\\rtlive-global\\rtlive\\preprocessing.py:Forecasting testcount gaps for all from 281 training points.\n",
      "WARNING:pystan:n_eff / iter below 0.001 indicates that the effective sample size has likely been overestimated\n",
      "WARNING:pystan:Rhat above 1.1 or below 0.9 indicates that the chains very likely have not mixed\n"
     ]
    }
   ],
   "source": [
    "df_forecast, results = data_be.forecast_BE(df_be_merged) #Using DE forecast, because BE didn't work?"
   ]
  },
  {
   "cell_type": "code",
   "execution_count": 10,
   "metadata": {},
   "outputs": [
    {
     "data": {
      "text/plain": [
       "(18589.0, 18650.65)"
      ]
     },
     "execution_count": 10,
     "metadata": {},
     "output_type": "execute_result"
    },
    {
     "data": {
      "image/png": "[encoded data removed]",
      "text/plain": [
       "<Figure size 432x288 with 2 Axes>"
      ]
     },
     "metadata": {
      "needs_background": "light"
     },
     "output_type": "display_data"
    }
   ],
   "source": [
    "plotstart = end_of_daily_data - pandas.Timedelta('2W')\n",
    "fig, axs = pyplot.subplots(2,sharex=True)\n",
    "axs[0].axvline(end_of_daily_data,linestyle=\"dotted\")\n",
    "axs[0].axvline(end_of_weekly_data,linestyle=\"dotted\")\n",
    "axs[0].set_title(\"Daily change\")\n",
    "axs[0].plot(data_be_data.loc['all']['new_tests'], 'b:', label=\"real data\")\n",
    "axs[0].plot(df_forecast.loc['all']['predicted_new_tests'][end_of_daily_data:], \"y--\",  label = \"1st prediction\")\n",
    "axs[0].legend()\n",
    "axs[1].set_title(\"Cumulative Sum\")\n",
    "axs[1].axvline(end_of_daily_data,linestyle=\"dotted\")\n",
    "axs[1].axvline(end_of_weekly_data,linestyle=\"dotted\")\n",
    "axs[1].plot(data_be_data.loc['all']['new_tests'].cumsum()[plotstart:],label=\"real data\")\n",
    "axs[1].plot(df_forecast.loc['all']['predicted_new_tests'].cumsum()[end_of_daily_data:], label = \"1st prediction\")\n",
    "axs[1].legend()\n",
    "pyplot.xlim(plotstart)"
   ]
  },
  {
   "cell_type": "markdown",
   "metadata": {},
   "source": [
    "## Call scaling method of `data_de` source"
   ]
  },
  {
   "cell_type": "code",
   "execution_count": 11,
   "metadata": {},
   "outputs": [],
   "source": [
    "corrected_prediction = data_de.scale_forecast_by_total_tests_reported(df_forecast.loc['all', 'new_tests'], df_forecast.loc['all', 'total_tests_reported'], df_forecast.loc['all', 'predicted_new_tests'])"
   ]
  },
  {
   "cell_type": "code",
   "execution_count": 12,
   "metadata": {},
   "outputs": [
    {
     "data": {
      "text/plain": [
       "(18589.0, 18650.65)"
      ]
     },
     "execution_count": 12,
     "metadata": {},
     "output_type": "execute_result"
    },
    {
     "data": {
      "image/png": "[encoded data removed]",
      "text/plain": [
       "<Figure size 432x288 with 2 Axes>"
      ]
     },
     "metadata": {
      "needs_background": "light"
     },
     "output_type": "display_data"
    }
   ],
   "source": [
    "fig, axs = pyplot.subplots(2,sharex=True)\n",
    "axs[0].axvline(end_of_daily_data,linestyle=\"dotted\")\n",
    "axs[0].axvline(end_of_weekly_data,linestyle=\"dotted\")\n",
    "axs[0].set_title(\"Daily change\")\n",
    "axs[0].plot(data_be_data.loc['all']['new_tests'], 'b:', label=\"real data\")\n",
    "axs[0].plot(df_forecast.loc['all']['predicted_new_tests'][end_of_daily_data:], \"y--\",  label = \"1st prediction\")\n",
    "axs[0].plot(corrected_prediction[end_of_daily_data:], \"r-\", label=\"week corrected prediction\")\n",
    "axs[0].legend()\n",
    "axs[1].set_title(\"Cumulative Sum\")\n",
    "axs[1].axvline(end_of_daily_data,linestyle=\"dotted\")\n",
    "axs[1].axvline(end_of_weekly_data,linestyle=\"dotted\")\n",
    "axs[1].plot(data_be_data.loc['all']['new_tests'].cumsum()[plotstart:],label=\"real data\")\n",
    "axs[1].plot(df_forecast.loc['all']['predicted_new_tests'].cumsum()[end_of_daily_data:], label = \"1st prediction\")\n",
    "axs[1].plot(corrected_prediction.cumsum()[end_of_daily_data:], \"r-\", label=\"week corrected prediction\")\n",
    "axs[1].legend()\n",
    "pyplot.xlim(plotstart)"
   ]
  },
  {
   "cell_type": "markdown",
   "metadata": {},
   "source": [
    "## Overwrite predicted test result"
   ]
  },
  {
   "cell_type": "code",
   "execution_count": 13,
   "metadata": {},
   "outputs": [],
   "source": [
    "df_forecast.loc['all', 'predicted_new_tests'] = corrected_prediction"
   ]
  },
  {
   "cell_type": "code",
   "execution_count": null,
   "metadata": {},
   "outputs": [],
   "source": []
  },
  {
   "cell_type": "code",
   "execution_count": null,
   "metadata": {},
   "outputs": [],
   "source": []
  },
  {
   "cell_type": "code",
   "execution_count": null,
   "metadata": {},
   "outputs": [],
   "source": []
  }
 ],
 "metadata": {
  "kernelspec": {
   "display_name": "Python 3",
   "language": "python",
   "name": "python3"
  },
  "language_info": {
   "codemirror_mode": {
    "name": "ipython",
    "version": 3
   },
   "file_extension": ".py",
   "mimetype": "text/x-python",
   "name": "python",
   "nbconvert_exporter": "python",
   "pygments_lexer": "ipython3",
   "version": "3.8.6"
  }
 },
 "nbformat": 4,
 "nbformat_minor": 4
}
